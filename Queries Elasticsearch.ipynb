{
 "cells": [
  {
   "cell_type": "markdown",
   "metadata": {},
   "source": [
    "En este informe se explican las queries realizadas sobre los índices `wine`, `inn`, `maraton`, y `norte`, cuyo indexado en el servidor de Elasticsearch se realiza con el script `document-indexing.py`.\n",
    "\n",
    "Se muestra tanto el código necesario para realizarlas con la API REST de Elasticsearch (en Python) como el resultado obtenido."
   ]
  },
  {
   "cell_type": "code",
   "execution_count": 38,
   "metadata": {},
   "outputs": [],
   "source": [
    "import json\n",
    "import requests\n",
    "from datetime import datetime\n",
    "\n",
    "ELASTIC = \"http://localhost:9200\" #dirección en la que está funcionando elastic"
   ]
  },
  {
   "cell_type": "markdown",
   "metadata": {},
   "source": [
    "# Índice Wine"
   ]
  },
  {
   "cell_type": "markdown",
   "metadata": {},
   "source": [
    "Este índice contiene datos sobre distintos vinos. "
   ]
  },
  {
   "cell_type": "markdown",
   "metadata": {},
   "source": [
    "## Mejores 5 vinos de cada color"
   ]
  },
  {
   "cell_type": "markdown",
   "metadata": {},
   "source": [
    "Esta query busca los 5 vinos con mejor puntuación de cada color (*White* y *Red*). Se ha realizado mediante dos queries, una que incluye los vinos tintos y otra que incluye los blancos. Los resultados se limitan a los primeros 5 elementos ordenados según el campo **Score**."
   ]
  },
  {
   "cell_type": "code",
   "execution_count": 16,
   "metadata": {},
   "outputs": [],
   "source": [
    "query = {\n",
    "    \"size\" : 5,\n",
    "    \"query\":{\n",
    "        \"match\" : { \"Color\" : \"Red\" }\n",
    "    },\n",
    "    \"sort\" : {\n",
    "        \"Score\" : \"desc\"\n",
    "    }\n",
    "}\n",
    "\n",
    "reds = json.loads(requests.get(ELASTIC+\"/wine/_search\",json=query).text)[\"hits\"][\"hits\"]\n",
    "\n",
    "query = {\n",
    "    \"size\" : 5,\n",
    "    \"query\": {\n",
    "        \"match\" : { \"Color\" : \"White\" }\n",
    "    },\n",
    "    \"sort\" : {\n",
    "        \"Score\" : \"desc\"\n",
    "    }\n",
    "}\n",
    "\n",
    "whites = json.loads(requests.get(ELASTIC+\"/wine/_search\",json=query).text)[\"hits\"][\"hits\"]"
   ]
  },
  {
   "cell_type": "code",
   "execution_count": 18,
   "metadata": {},
   "outputs": [
    {
     "name": "stdout",
     "output_type": "stream",
     "text": [
      "Vinos tintos:\n",
      "----------------\n",
      "#1: A Shot in the Dark Eleven Confessions Vineyard, 98/100\n",
      "#2: Papas Block, 98/100\n",
      "#3: In the Crosshairs Eleven Confessions Vineyard, 97/100\n",
      "#4: Cabernet Sauvignon, 97/100\n",
      "#5: Beckstoffer Dr. Crane Vineyard, 97/100\n",
      "\n",
      "Vinos blancos:\n",
      "----------------\n",
      "#1: Green River Isobel, 95/100\n",
      "#2: Boonflys Hill, 95/100\n",
      "#3: McCrea Vineyard, 95/100\n",
      "#4: Ma Belle-Fille, 95/100\n",
      "#5: Durell Vineyard, 95/100\n",
      "\n"
     ]
    }
   ],
   "source": [
    "print(\"Vinos tintos:\")\n",
    "print(\"----------------\")\n",
    "for i, w in enumerate(reds):\n",
    "    wine = w[\"_source\"]\n",
    "    print(\"#%d: %s, %d/100\" % (i+1, wine[\"Name\"], wine[\"Score\"]))\n",
    "print(\"\")\n",
    "\n",
    "print(\"Vinos blancos:\")\n",
    "print(\"----------------\")\n",
    "for i, w in enumerate(whites):\n",
    "    wine = w[\"_source\"]\n",
    "    print(\"#%d: %s, %d/100\" % (i+1, wine[\"Name\"], wine[\"Score\"]))\n",
    "print(\"\")"
   ]
  },
  {
   "cell_type": "markdown",
   "metadata": {},
   "source": [
    "## Precio medio y puntuación máxima del vino por tipo de uva"
   ]
  },
  {
   "cell_type": "markdown",
   "metadata": {},
   "source": [
    "Esta query divide los vinos por su tipo de uva, y para cada uva calcula la media de su precio y el máximo de puntuación obtenido por los vinos de dicha uva. Se ha realizado mediante un *aggregation* que primero divide los elementos por su campo **Grape**, y dentro de cada división realiza dos *aggregations*, una calcula *avg* del campo **Price** y otra *max* del campo **Score**."
   ]
  },
  {
   "cell_type": "code",
   "execution_count": 20,
   "metadata": {},
   "outputs": [],
   "source": [
    "query = { \n",
    "    \"aggs\" : {\n",
    "        \"uvas\" : {\n",
    "            \"terms\" : {\n",
    "                \"field\" : \"Grape.keyword\"\n",
    "            },\n",
    "            \"aggs\":{\n",
    "                \"precio-medio-por-uva\": {\n",
    "                    \"avg\" : {\n",
    "                        \"field\" : \"Price\"\n",
    "                    }\n",
    "                },\n",
    "                \"puntuacion-maxima-por-uva\" : {\n",
    "                    \"max\" : {\n",
    "                        \"field\" : \"Score\"\n",
    "                    }\n",
    "                }\n",
    "            }\n",
    "        } \n",
    "    }\n",
    "}\n",
    "\n",
    "uvas = json.loads(requests.get(ELASTIC+\"/wine/_search\",json=query).text)[\"aggregations\"][\"uvas\"][\"buckets\"]"
   ]
  },
  {
   "cell_type": "code",
   "execution_count": 21,
   "metadata": {},
   "outputs": [
    {
     "name": "stdout",
     "output_type": "stream",
     "text": [
      "Pinot Noir: 109 vinos\n",
      "Precio medio: $46.98\n",
      "Puntuación máxima: 95/100\n",
      "\n",
      "Chardonnay: 104 vinos\n",
      "Precio medio: $41.93\n",
      "Puntuación máxima: 95/100\n",
      "\n",
      "Zinfandel: 78 vinos\n",
      "Precio medio: $28.94\n",
      "Puntuación máxima: 95/100\n",
      "\n",
      "Cabernet Sauvingnon: 68 vinos\n",
      "Precio medio: $81.29\n",
      "Puntuación máxima: 97/100\n",
      "\n",
      "Syrah: 61 vinos\n",
      "Precio medio: $44.95\n",
      "Puntuación máxima: 98/100\n",
      "\n",
      "Sauvignon Blanc: 46 vinos\n",
      "Precio medio: $24.02\n",
      "Puntuación máxima: 93/100\n",
      "\n",
      "Grenache: 10 vinos\n",
      "Precio medio: $68.80\n",
      "Puntuación máxima: 97/100\n",
      "\n",
      "Merlot: 10 vinos\n",
      "Precio medio: $30.20\n",
      "Puntuación máxima: 89/100\n",
      "\n",
      "Petite Sirah: 6 vinos\n",
      "Precio medio: $41.83\n",
      "Puntuación máxima: 91/100\n",
      "\n",
      "Barbera: 1 vinos\n",
      "Precio medio: $17.00\n",
      "Puntuación máxima: 87/100\n",
      "\n"
     ]
    }
   ],
   "source": [
    "for obj in uvas:\n",
    "    print(\"%s: %d vinos\" % (obj[\"key\"], obj[\"doc_count\"]))\n",
    "    print(\"Precio medio: $%0.2f\" % (obj[\"precio-medio-por-uva\"][\"value\"]))\n",
    "    print(\"Puntuación máxima: %d/100\" % (obj[\"puntuacion-maxima-por-uva\"][\"value\"]))\n",
    "    print(\"\")"
   ]
  },
  {
   "cell_type": "markdown",
   "metadata": {},
   "source": [
    "## Precio medio de vinos producidos antes de 2007"
   ]
  },
  {
   "cell_type": "markdown",
   "metadata": {},
   "source": [
    "Esta query encuentra los vinos producidos en años anteriores a 2007, y calcula el precio medio. Se ha realizado mediante una *query* que restrinje el campo **Year** a valores menores que 2007, y una *aggregation* que calcula la media del campo **Price**."
   ]
  },
  {
   "cell_type": "code",
   "execution_count": 29,
   "metadata": {},
   "outputs": [],
   "source": [
    "query = {\n",
    "    \"query\":{\n",
    "        \"range\" : { \n",
    "            \"Year\" : {\n",
    "                \"lt\" : 2007\n",
    "            }\n",
    "        }\n",
    "    },\n",
    "    \"aggs\":{\n",
    "        \"precio-medio\": {\n",
    "            \"avg\" : {\n",
    "                \"field\" : \"Price\"\n",
    "            }\n",
    "        }\n",
    "    }\n",
    "}\n",
    "\n",
    "precio = json.loads(requests.get(ELASTIC+\"/wine/_search\",json=query).text)[\"aggregations\"][\"precio-medio\"][\"value\"]"
   ]
  },
  {
   "cell_type": "code",
   "execution_count": 31,
   "metadata": {},
   "outputs": [
    {
     "name": "stdout",
     "output_type": "stream",
     "text": [
      "Precio medio de los vinos anteriores a 2007: $53.37\n"
     ]
    }
   ],
   "source": [
    "print(\"Precio medio de los vinos anteriores a 2007: $%0.2f\" % precio)"
   ]
  },
  {
   "cell_type": "markdown",
   "metadata": {},
   "source": [
    "# Índice Inn"
   ]
  },
  {
   "cell_type": "markdown",
   "metadata": {},
   "source": [
    "Este índice contiene información sobre distintas reservas realizadas en un motel."
   ]
  },
  {
   "cell_type": "markdown",
   "metadata": {},
   "source": [
    "## Reservas de duración mayor a 10 días"
   ]
  },
  {
   "cell_type": "markdown",
   "metadata": {},
   "source": [
    "Esta query busca aquellas reservas que hayan durado más de una semana y media (redondeado a 10 días). Para ello se ha utilizado una query con script, un tipo especial de query que permite la utilización de código que devuelva verdadero o falso, condición que será aplicada a cada documento, devolviendo aquellos donde la condición es cierta. En este caso la condición es que la diferencia entre la fecha **CheckOut** y **CheckIn** sea mayor que 10, expresada en días. \n",
    "\n",
    "Elasticsearch no permite operaciones directamente con fechas, por lo que pasamos los valores a milisegundos, y tras la resta lo volvemos a convertir en días."
   ]
  },
  {
   "cell_type": "code",
   "execution_count": 48,
   "metadata": {
    "ExecuteTime": {
     "end_time": "2019-05-09T09:53:59.207326Z",
     "start_time": "2019-05-09T09:53:59.187601Z"
    }
   },
   "outputs": [],
   "source": [
    "query = {\n",
    "    \"size\": 10000,\n",
    "    \"query\":\n",
    "    {\n",
    "        \"script\" : {\n",
    "            \"script\" : {\n",
    "                \"source\": \"return (doc['CheckOut'].value.getMillis() - doc['CheckIn'].value.getMillis())/(1000*60*60*24) > 10\"\n",
    "            }\n",
    "        }\n",
    "    }\n",
    "}\n",
    "\n",
    "res = json.loads(requests.get(ELASTIC+\"/inn/_search\",json=query).text)[\"hits\"][\"hits\"]"
   ]
  },
  {
   "cell_type": "code",
   "execution_count": 49,
   "metadata": {},
   "outputs": [
    {
     "name": "stdout",
     "output_type": "stream",
     "text": [
      "LEWIS TRUDEN: Entró 21-Jun-10, Salió 02-Jul-10, duración = 11 días\n",
      "GUS DERKAS: Entró 01-Oct-10, Salió 13-Oct-10, duración = 12 días\n",
      "OLYMPIA ALBROUGH: Entró 14-Oct-10, Salió 25-Oct-10, duración = 11 días\n",
      "LESTER PANOS: Entró 22-Nov-10, Salió 04-Dec-10, duración = 12 días\n",
      "DENNY PERRINO: Entró 07-Mar-10, Salió 19-Mar-10, duración = 12 días\n",
      "ELMIRA ATTEBURG: Entró 21-Nov-10, Salió 02-Dec-10, duración = 11 días\n",
      "ISREAL BISHOFF: Entró 01-Jun-10, Salió 12-Jun-10, duración = 11 días\n",
      "MAXIE STEBNER: Entró 15-Jul-10, Salió 28-Jul-10, duración = 13 días\n",
      "PORTER STRACK: Entró 02-Sep-10, Salió 14-Sep-10, duración = 12 días\n",
      "HERB CRACE: Entró 06-Jan-10, Salió 18-Jan-10, duración = 12 días\n",
      "MARINE CASMORE: Entró 22-May-10, Salió 03-Jun-10, duración = 12 días\n",
      "RODERICK BRODOWSKI: Entró 12-Jan-10, Salió 25-Jan-10, duración = 13 días\n",
      "ASUNCION TIPPIN: Entró 24-Apr-10, Salió 06-May-10, duración = 12 días\n",
      "FRANCISCO BOSE: Entró 03-Oct-10, Salió 14-Oct-10, duración = 11 días\n",
      "GRANT KNERIEN: Entró 12-Dec-10, Salió 25-Dec-10, duración = 13 días\n",
      "AUNDREA EASTLING: Entró 30-May-10, Salió 12-Jun-10, duración = 13 días\n",
      "CODY EERKES: Entró 18-Aug-10, Salió 30-Aug-10, duración = 12 días\n",
      "BLAINE WILCUTT: Entró 30-Dec-10, Salió 12-Jan-11, duración = 13 días\n",
      "GILBERT HUIZINGA: Entró 14-Feb-10, Salió 25-Feb-10, duración = 11 días\n",
      "STEPHEN PLYMEL: Entró 19-Mar-10, Salió 01-Apr-10, duración = 13 días\n",
      "REINALDO MUHLESTEIN: Entró 23-Jun-10, Salió 05-Jul-10, duración = 12 días\n",
      "BERNITA SCARPINO: Entró 01-Aug-10, Salió 14-Aug-10, duración = 13 días\n",
      "MIREYA NEUZIL: Entró 17-May-10, Salió 29-May-10, duración = 12 días\n",
      "FAVIOLA MORRISSETTE: Entró 26-Feb-10, Salió 09-Mar-10, duración = 11 días\n",
      "SUZANNE DUB: Entró 19-Jun-10, Salió 02-Jul-10, duración = 13 días\n",
      "\n"
     ]
    }
   ],
   "source": [
    "for r in res:\n",
    "    reservation = r[\"_source\"]\n",
    "    ckin = datetime.strptime(reservation[\"CheckIn\"], \"%d-%b-%y\")\n",
    "    ckout = datetime.strptime(reservation[\"CheckOut\"], \"%d-%b-%y\")\n",
    "\n",
    "    print(\"%s %s: Entró %s, Salió %s, duración = %d días\" % (reservation[\"FirstName\"], reservation[\"LastName\"],reservation[\"CheckIn\"],\n",
    "                                                             reservation[\"CheckOut\"],(ckout-ckin).days))\n",
    "\n",
    "print(\"\")"
   ]
  },
  {
   "cell_type": "markdown",
   "metadata": {},
   "source": [
    "## Personas que se hayan alojado más de una vez"
   ]
  },
  {
   "cell_type": "markdown",
   "metadata": {},
   "source": [
    "Esta query busca personas con más de una reserva en el sistema. Para ello se ha utilizado una *aggregation* que clasifica los documentos en grupos por el nombre completo (realizable mediante un script que une los campos **FirstName** y **LastName** en uno), y para cada clasificación, implementa una *aggregation* de tipo *bucket_selector*, que permite obtener la cuenta de documentos en cada grupo, y quedarse sólo con aquellos grupos donde dicha cuenta sea mayor que 1."
   ]
  },
  {
   "cell_type": "code",
   "execution_count": 52,
   "metadata": {
    "ExecuteTime": {
     "end_time": "2019-05-09T09:53:50.980432Z",
     "start_time": "2019-05-09T09:53:50.956840Z"
    },
    "scrolled": true
   },
   "outputs": [],
   "source": [
    "query = {\n",
    "    \"size\":0,\n",
    "    \"aggs\": {\n",
    "        \"persona\":{\n",
    "            \"terms\" : {\n",
    "                \"script\": \"params['_source'].FirstName+' '+params['_source'].LastName\"\n",
    "            },\n",
    "            \"aggs\":{\n",
    "                \"reservas\":{\n",
    "                    \"bucket_selector\": {\n",
    "                        \"buckets_path\": {\n",
    "                            \"cuenta\" : \"_count\"\n",
    "                        },\n",
    "                        \"script\": {\n",
    "                            \"source\" : \"params.cuenta > 1\"\n",
    "                        }\n",
    "                    }\n",
    "                }\n",
    "            }\n",
    "        }\n",
    "    }\n",
    "}\n",
    "\n",
    "res = json.loads(requests.get(ELASTIC+\"/inn/_search\",json=query).text)[\"aggregations\"][\"persona\"][\"buckets\"]"
   ]
  },
  {
   "cell_type": "code",
   "execution_count": 53,
   "metadata": {},
   "outputs": [
    {
     "name": "stdout",
     "output_type": "stream",
     "text": [
      "EMERY VOLANTE se ha alojado 3 veces\n",
      "GLEN DONIGAN se ha alojado 3 veces\n",
      "GRANT KNERIEN se ha alojado 3 veces\n",
      "ALEXIS FINEFROCK se ha alojado 2 veces\n",
      "AMIEE PENEZ se ha alojado 2 veces\n",
      "ARON KEBEDE se ha alojado 2 veces\n",
      "AUGUST MAEWEATHER se ha alojado 2 veces\n",
      "BENTON AKHTAR se ha alojado 2 veces\n",
      "BO DURAN se ha alojado 2 veces\n",
      "CATHERIN KUDRON se ha alojado 2 veces\n"
     ]
    }
   ],
   "source": [
    "for r in res:\n",
    "    print(\"%s se ha alojado %d veces\" % (r[\"key\"], r[\"doc_count\"]))"
   ]
  },
  {
   "cell_type": "markdown",
   "metadata": {},
   "source": [
    "## Número de reservas al mes para camas de tipo *Queen*"
   ]
  },
  {
   "cell_type": "markdown",
   "metadata": {},
   "source": [
    "Esta query devuelve el número de reservas al mes en habitaciones que tengan cama tipo *Queen*. Para ello se realiza una búsqueda de las reservas cuya habitación tenga el tipo de cama *Queen* mediante el campo **bedType** dentro del objeto **Room**, y sobre estos resultados se realiza una *aggregation* en la que se agrupan los resultados en grupos según el mes de la reserva, que se puede obtener mediante un script, que llama al método *getMonth* aplicado al campo de tipo fecha **CheckIn**."
   ]
  },
  {
   "cell_type": "code",
   "execution_count": 54,
   "metadata": {
    "ExecuteTime": {
     "end_time": "2019-05-09T09:47:47.604339Z",
     "start_time": "2019-05-09T09:47:47.584887Z"
    }
   },
   "outputs": [],
   "source": [
    "query = {\n",
    "    \"size\" : 0,\n",
    "    \"query\" : {\n",
    "        \"match\" : { \"Room.bedType\" : \"Queen\" }\n",
    "    },\n",
    "    \"aggs\" : {\n",
    "        \"reservas-al-mes\" : {\n",
    "            \"terms\" : { \n",
    "                \"script\" : \"doc['CheckIn'].value.getMonth()\"\n",
    "            }\n",
    "        }\n",
    "    }\n",
    "}\n",
    "\n",
    "res = json.loads(requests.get(ELASTIC+\"/inn/_search\",json=query).text)[\"aggregations\"][\"reservas-al-mes\"][\"buckets\"]"
   ]
  },
  {
   "cell_type": "code",
   "execution_count": 55,
   "metadata": {},
   "outputs": [
    {
     "name": "stdout",
     "output_type": "stream",
     "text": [
      "En el mes AUGUST: 25 reservas de camas de tipo Queen\n",
      "En el mes DECEMBER: 24 reservas de camas de tipo Queen\n",
      "En el mes APRIL: 21 reservas de camas de tipo Queen\n",
      "En el mes JULY: 21 reservas de camas de tipo Queen\n",
      "En el mes OCTOBER: 21 reservas de camas de tipo Queen\n",
      "En el mes NOVEMBER: 19 reservas de camas de tipo Queen\n",
      "En el mes SEPTEMBER: 19 reservas de camas de tipo Queen\n",
      "En el mes JUNE: 18 reservas de camas de tipo Queen\n",
      "En el mes MAY: 18 reservas de camas de tipo Queen\n",
      "En el mes JANUARY: 16 reservas de camas de tipo Queen\n"
     ]
    }
   ],
   "source": [
    "for r in res:\n",
    "    print(\"En el mes %s: %d reservas de camas de tipo Queen\" % (r[\"key\"],r[\"doc_count\"]))"
   ]
  },
  {
   "cell_type": "markdown",
   "metadata": {},
   "source": [
    "## Precio total de las reservas realizadas por *EMERY VOLANTE*"
   ]
  },
  {
   "cell_type": "markdown",
   "metadata": {},
   "source": [
    "Esta query calcula el precio total de las reservas del cliente EMERY VOLANTE, que como vimos anteriormente se ha alojado 3 veces. Esta query consiste en buscar las reservas cuyo campo **FirstName** sea EMERY y **LastName** sea VOLANTE, y sobre el resultado aplicar una *aggregation* que sume el coste de las reservas, calculado con un script que multiplica el campo **Rate** (precio de habitación por día) por los días que se ha alojado (calculado de la misma manera que en la primera query)."
   ]
  },
  {
   "cell_type": "code",
   "execution_count": 57,
   "metadata": {
    "ExecuteTime": {
     "end_time": "2019-05-09T10:04:49.708440Z",
     "start_time": "2019-05-09T10:04:49.693969Z"
    }
   },
   "outputs": [],
   "source": [
    "query = {\n",
    "    \"query\" : {\n",
    "        \"bool\" : {\n",
    "            \"must\" : [{\"match\" : { \"FirstName\" : \"EMERY\"}}, {\"match\" : { \"LastName\" : \"VOLANTE\"}}]\n",
    "        }\n",
    "    },\n",
    "    \"aggs\" : {\n",
    "       \"precio-total\" : {\n",
    "           \"sum\" : {\n",
    "               \"script\" : {\n",
    "                   \"source\" : \"(doc.CheckOut.value.getMillis() - doc.CheckIn.value.getMillis())/(1000*60*60*24) * doc.Rate.value\" \n",
    "               }\n",
    "           }\n",
    "       } \n",
    "    }\n",
    "}\n",
    "\n",
    "res = json.loads(requests.get(ELASTIC+\"/inn/_search\",json=query).text)[\"aggregations\"]"
   ]
  },
  {
   "cell_type": "code",
   "execution_count": 59,
   "metadata": {},
   "outputs": [
    {
     "name": "stdout",
     "output_type": "stream",
     "text": [
      "Precio total de todas las reservas realizadas por EMERY VOLANTE: $843.75\n",
      "\n"
     ]
    }
   ],
   "source": [
    "print(\"Precio total de todas las reservas realizadas por EMERY VOLANTE: $%0.2f\" % res[\"precio-total\"][\"value\"])\n",
    "print(\"\")"
   ]
  },
  {
   "cell_type": "markdown",
   "metadata": {},
   "source": [
    "# Índice Maraton"
   ]
  },
  {
   "cell_type": "markdown",
   "metadata": {},
   "source": [
    "Este índice contiene varios datos sobre los corredores de una maratón."
   ]
  },
  {
   "cell_type": "markdown",
   "metadata": {},
   "source": [
    "## Media, mejor y peor tiempo por grupo de edad"
   ]
  },
  {
   "cell_type": "markdown",
   "metadata": {},
   "source": [
    "Esta query devuelve, por cada grupo de edad, la media, mínimo, y máximo tiempo obtenido. Para ello se realiza una *aggregation* que divide los documentos en los distintos grupos de edad, y para cada grupo se aplica, sobre el campo **Time** operaciones *avg*, *min* y *max*."
   ]
  },
  {
   "cell_type": "code",
   "execution_count": 63,
   "metadata": {
    "ExecuteTime": {
     "end_time": "2019-05-09T19:23:04.785651Z",
     "start_time": "2019-05-09T19:23:04.667434Z"
    }
   },
   "outputs": [],
   "source": [
    "query = {\n",
    "    \"size\" : 0,\n",
    "    \"aggs\" : {\n",
    "        \"tiempos_por_grupo\" : {\n",
    "            \"terms\" : {\n",
    "                \"field\" : \"Group.keyword\"\n",
    "            },\n",
    "            \"aggs\" : {\n",
    "                \"tiempos\" : {\n",
    "                    \"avg\" : {\n",
    "                        \"field\" : \"Time\"\n",
    "                    }\n",
    "                },\n",
    "                \"mejor-tiempo\" : {\n",
    "                    \"min\" : {\n",
    "                        \"field\" : \"Time\"\n",
    "                    }\n",
    "                },\n",
    "                \"peor-tiempo\" : {\n",
    "                    \"max\" : {\n",
    "                        \"field\" : \"Time\"\n",
    "                    }\n",
    "                }\n",
    "            }\n",
    "        }\n",
    "    }\n",
    "}\n",
    "\n",
    "res = json.loads(requests.get(ELASTIC+\"/maraton/_search\",json=query).text)[\"aggregations\"][\"tiempos_por_grupo\"][\"buckets\"]"
   ]
  },
  {
   "cell_type": "code",
   "execution_count": 64,
   "metadata": {},
   "outputs": [
    {
     "name": "stdout",
     "output_type": "stream",
     "text": [
      "Grupo de edad 20-39: 272 corredores, tiempo medio 1:47:28, tiempo perdedor: 2:41:04, tiempo ganador: 1:09:47\n",
      "Grupo de edad 40-49: 139 corredores, tiempo medio 1:46:51, tiempo perdedor: 2:37:23, tiempo ganador: 1:18:36\n",
      "Grupo de edad 50-59: 38 corredores, tiempo medio 1:51:09, tiempo perdedor: 2:27:23, tiempo ganador: 1:26:51\n",
      "Grupo de edad 60-98: 7 corredores, tiempo medio 1:54:26, tiempo perdedor: 2:05:21, tiempo ganador: 1:37:56\n",
      "Grupo de edad 01-19: 5 corredores, tiempo medio 1:44:14, tiempo perdedor: 2:04:02, tiempo ganador: 1:21:24\n",
      "Grupo de edad 99-+: 2 corredores, tiempo medio 2:01:10, tiempo perdedor: 2:22:11, tiempo ganador: 1:40:09\n"
     ]
    }
   ],
   "source": [
    "for r in res:\n",
    "    \n",
    "    print(\"Grupo de edad %s: %d corredores, tiempo medio %s, \\\n",
    "tiempo perdedor: %s, tiempo ganador: %s\" % (r[\"key\"], r[\"doc_count\"],\n",
    "                                                r[\"tiempos\"][\"value_as_string\"],\n",
    "                                                r[\"peor-tiempo\"][\"value_as_string\"],\n",
    "                                                r[\"mejor-tiempo\"][\"value_as_string\"]))"
   ]
  },
  {
   "cell_type": "markdown",
   "metadata": {},
   "source": [
    "## Mejor posición por Estado"
   ]
  },
  {
   "cell_type": "markdown",
   "metadata": {},
   "source": [
    "Esta query devuelve, por cada estado, la mínima posición obtenida. Para ello se realiza una *aggregation* que divide los documentos en los distintos estados, y para cada grupo se calcula el *min* del campo **Place**."
   ]
  },
  {
   "cell_type": "code",
   "execution_count": 65,
   "metadata": {
    "ExecuteTime": {
     "end_time": "2019-05-10T13:37:27.352889Z",
     "start_time": "2019-05-10T13:37:27.333401Z"
    }
   },
   "outputs": [],
   "source": [
    "query = {\n",
    "    \"size\" : 0,\n",
    "    \"aggs\" : {\n",
    "        \"estados\" : {\n",
    "            \"terms\" : {\n",
    "                \"field\" : \"State.keyword\"\n",
    "            },\n",
    "            \"aggs\" : {\n",
    "                \"mejor\" : {\n",
    "                    \"min\" : {\n",
    "                        \"field\" : \"Place\"\n",
    "                    }\n",
    "                },\n",
    "            }\n",
    "        }\n",
    "    }\n",
    "}\n",
    "\n",
    "res = json.loads(requests.get(ELASTIC+\"/maraton/_search\",json=query).text)[\"aggregations\"][\"estados\"][\"buckets\"]"
   ]
  },
  {
   "cell_type": "code",
   "execution_count": 66,
   "metadata": {},
   "outputs": [
    {
     "name": "stdout",
     "output_type": "stream",
     "text": [
      "RI: 190 corredores, mejor posición 3\n",
      "MA: 182 corredores, mejor posición 1\n",
      "CT: 32 corredores, mejor posición 20\n",
      "NH: 20 corredores, mejor posición 12\n",
      "FL: 9 corredores, mejor posición 17\n",
      "NC: 6 corredores, mejor posición 54\n",
      "MO: 5 corredores, mejor posición 7\n",
      "IN: 4 corredores, mejor posición 58\n",
      "NJ: 4 corredores, mejor posición 69\n",
      "PA: 4 corredores, mejor posición 100\n"
     ]
    }
   ],
   "source": [
    "for r in res:\n",
    "    print(\"%s: %d corredores, mejor posición %d\" % (r[\"key\"], r[\"doc_count\"], r[\"mejor\"][\"value\"]))"
   ]
  },
  {
   "cell_type": "markdown",
   "metadata": {},
   "source": [
    "## Corredores con ritmo entre 6 y 8 minutos/km que hayan quedado por encima del puesto 5 en su grupo"
   ]
  },
  {
   "cell_type": "markdown",
   "metadata": {},
   "source": [
    "Esta query encuentra los corredores con ritmos en el rango entre 6 y 8 minutos que además hayan quedado por encima del puesto 5 para su grupo de edad. Para ello se utilizan dos condiciones en la búsqueda, que el campo **Pace** sea mayor o igual que 6 minutos y menor o igual que 8 minutos, y que **GroupPlace** sea menor o igual que 5."
   ]
  },
  {
   "cell_type": "code",
   "execution_count": 67,
   "metadata": {
    "ExecuteTime": {
     "end_time": "2019-05-10T13:48:19.671834Z",
     "start_time": "2019-05-10T13:48:19.579238Z"
    },
    "scrolled": true
   },
   "outputs": [],
   "source": [
    "query = {\n",
    "    \"size\": 10000,\n",
    "    \"query\" : {\n",
    "        \"bool\" : {\n",
    "            \"must\" : [{\n",
    "                \"range\" : { \n",
    "                    \"Pace\" : {\n",
    "                        \"gte\" : \"0:6:00\",\n",
    "                        \"lt\" : \"0:8:00\"\n",
    "                    }\n",
    "                }},\n",
    "                {\"range\" : {\n",
    "                    \"GroupPlace\" : {\n",
    "                        \"lte\" : 5\n",
    "                    }\n",
    "                }\n",
    "            }]\n",
    "        }\n",
    "    }\n",
    "}\n",
    "\n",
    "\n",
    "res = json.loads(requests.get(ELASTIC+\"/maraton/_search\",json=query).text)[\"hits\"][\"hits\"]"
   ]
  },
  {
   "cell_type": "code",
   "execution_count": 68,
   "metadata": {},
   "outputs": [
    {
     "name": "stdout",
     "output_type": "stream",
     "text": [
      "CRUZ TAILOR, Pace: 0:6:00, Puesto en su grupo(40-49) 1\n",
      "BRENTON FAGO, Pace: 0:6:03, Puesto en su grupo(40-49) 2\n",
      "CHARLES FARLESS, Pace: 0:6:03, Puesto en su grupo(40-49) 3\n",
      "WILBER VANORDER, Pace: 0:6:04, Puesto en su grupo(40-49) 4\n",
      "KENDRICK HOLZ, Pace: 0:6:13, Puesto en su grupo(01-19) 1\n",
      "JAMA PEAD, Pace: 0:6:16, Puesto en su grupo(20-39) 1\n",
      "ROMEO UNVARSKY, Pace: 0:6:18, Puesto en su grupo(40-49) 5\n",
      "ALEXIS HABERMANN, Pace: 0:6:38, Puesto en su grupo(50-59) 1\n",
      "MAGGIE NASR, Pace: 0:6:39, Puesto en su grupo(20-39) 2\n",
      "FRANCIS LAMSON, Pace: 0:6:42, Puesto en su grupo(50-59) 2\n",
      "HEATH KIRVIN, Pace: 0:7:02, Puesto en su grupo(50-59) 3\n",
      "NEDRA NASSIMI, Pace: 0:7:03, Puesto en su grupo(20-39) 3\n",
      "FLORIDA AYTES, Pace: 0:7:03, Puesto en su grupo(40-49) 1\n",
      "LETTIE MCKAGUE, Pace: 0:7:05, Puesto en su grupo(20-39) 4\n",
      "MAIRA ROUTHIER, Pace: 0:7:11, Puesto en su grupo(20-39) 5\n",
      "GIOVANNI FYLES, Pace: 0:7:17, Puesto en su grupo(50-59) 4\n",
      "STEPHANI FERTITTA, Pace: 0:7:18, Puesto en su grupo(40-49) 2\n",
      "WESLEY BECKWORTH, Pace: 0:7:19, Puesto en su grupo(50-59) 5\n",
      "CEDRIC FROILAND, Pace: 0:7:29, Puesto en su grupo(60-98) 1\n",
      "JOSUE WOODAL, Pace: 0:7:39, Puesto en su grupo(99-+) 1\n",
      "REUBEN JOHNSON, Pace: 0:7:51, Puesto en su grupo(01-19) 2\n",
      "MIGUELINA BOWLAND, Pace: 0:7:56, Puesto en su grupo(40-49) 3\n",
      "DANELLE TROIA, Pace: 0:8:00, Puesto en su grupo(40-49) 4\n",
      "STANFORD RIVERIA, Pace: 0:8:00, Puesto en su grupo(01-19) 3\n",
      "ANTONY CRAGIN, Pace: 0:8:00, Puesto en su grupo(60-98) 2\n"
     ]
    }
   ],
   "source": [
    "for re in res:\n",
    "    r = re[\"_source\"]\n",
    "    print(\"%s, Pace: %s, Puesto en su grupo(%s) %d\" % (r[\"FirstName\"]+\" \"+r[\"LasName\"], r[\"Pace\"], r[\"Group\"], r[\"GroupPlace\"]))"
   ]
  },
  {
   "cell_type": "markdown",
   "metadata": {},
   "source": [
    "## Número de BIB de los diez mejores corredores"
   ]
  },
  {
   "cell_type": "markdown",
   "metadata": {},
   "source": [
    "Esta query devuelve el número de BIB de los 10 mejores corredores. Para ello se realiza una búsqueda de los documentos donde el campo **Place** sea menor o igual que 10."
   ]
  },
  {
   "cell_type": "code",
   "execution_count": 69,
   "metadata": {
    "ExecuteTime": {
     "end_time": "2019-05-10T13:51:31.683400Z",
     "start_time": "2019-05-10T13:51:31.668373Z"
    }
   },
   "outputs": [],
   "source": [
    "query = {\n",
    "    \"size\": 10,\n",
    "    \"query\" : {\n",
    "        \"range\" : {\n",
    "            \"Place\" : {\n",
    "                \"lte\" : \"10\"\n",
    "            }\n",
    "        }\n",
    "    }\n",
    "}\n",
    "\n",
    "res = json.loads(requests.get(ELASTIC+\"/maraton/_search\",json=query).text)[\"hits\"][\"hits\"]"
   ]
  },
  {
   "cell_type": "code",
   "execution_count": 71,
   "metadata": {},
   "outputs": [
    {
     "name": "stdout",
     "output_type": "stream",
     "text": [
      "ANDRE PELLAM, puesto 1, BIB: 340\n",
      "HORACE KARPOWICZ, puesto 2, BIB: 34\n",
      "MILES ROSELLA, puesto 3, BIB: 399\n",
      "FRANKLYN GIRARDIN, puesto 4, BIB: 18\n",
      "AL LEMASTER, puesto 5, BIB: 262\n",
      "CRUZ TAILOR, puesto 6, BIB: 308\n",
      "DEWEY HEAIVILIN, puesto 7, BIB: 45\n",
      "HYMAN CURIE, puesto 8, BIB: 16\n",
      "BRENTON FAGO, puesto 9, BIB: 42\n",
      "CHARLES FARLESS, puesto 10, BIB: 420\n"
     ]
    }
   ],
   "source": [
    "for re in res:\n",
    "    r = re[\"_source\"]\n",
    "    print(\"%s, puesto %s, BIB: %s\" % (r[\"FirstName\"]+\" \"+r[\"LasName\"], r[\"Place\"], r[\"BIBNumber\"]))"
   ]
  },
  {
   "cell_type": "markdown",
   "metadata": {},
   "source": [
    "# Índice norte"
   ]
  },
  {
   "cell_type": "markdown",
   "metadata": {},
   "source": [
    "Este índice contiene noticias publicadas por el Norte de Castilla durante el año 2006."
   ]
  },
  {
   "cell_type": "markdown",
   "metadata": {},
   "source": [
    "## Artículos de la sección \"Internacional\" que contengan la frase \"crisis económica\""
   ]
  },
  {
   "cell_type": "markdown",
   "metadata": {},
   "source": [
    "En esta query se buscan los artículos cuya sección sea Internacional que en el cuerpo de la noticia contengan la frase \"crisis económica\". Para ello se realiza una búsqueda con dos condiciones, que el campo **seccion** sea Internacional, y que el campo **cuerpo** contenga la frase \"crisis económica\"."
   ]
  },
  {
   "cell_type": "code",
   "execution_count": 73,
   "metadata": {
    "ExecuteTime": {
     "end_time": "2019-05-09T19:23:04.785651Z",
     "start_time": "2019-05-09T19:23:04.667434Z"
    }
   },
   "outputs": [],
   "source": [
    "query = {\n",
    "    \"size\" : 10000,\n",
    "    \"query\" : {\n",
    "        \"bool\" : {\n",
    "            \"must\" : [\n",
    "                {\"match\" : {\"seccion\" : \"Internacional\"}},\n",
    "                {\"match_phrase\" : {\"cuerpo\" : \"crisis económica\"}}\n",
    "            ]\n",
    "        }\n",
    "    }\n",
    "}\n",
    "\n",
    "res = json.loads(requests.get(ELASTIC+\"/norte/_search\",json=query).text)[\"hits\"][\"hits\"]"
   ]
  },
  {
   "cell_type": "code",
   "execution_count": 74,
   "metadata": {},
   "outputs": [
    {
     "name": "stdout",
     "output_type": "stream",
     "text": [
      "\"Los argentinos reciben con indiferencia la orden por la que los bancos devolverán en pesos los ahorros retenidos\" [score 10.76]\n",
      "\tLos afectados, insatisfechos con la solución, insistirán en sus demandas\n",
      "\n",
      "\"Las empresas españolas en América Latina temen nuevos cambios legales\" [score 9.60]\n",
      "\tLa inseguridad jurídica es la principal razón que alegan las compañías para paralizar o reconsiderar sus inversiones en estos países\n",
      "\n",
      "\"Berlusconi acusa a los empresarios de aliarse con la oposición\" [score 9.14]\n",
      "\tLa patronal italiana califica las palabras del primer ministro de «antidemocráticas»\n",
      "\n",
      "\"Ferviente nacionalista crítico con WashingtonEl peor dirigente de la historia del país\" [score 8.15]\n",
      "\n",
      "\"Perú da otra oportunidad a Alan García, que dejó el país en bancarrota en 1990\" [score 8.15]\n",
      "\tEl futuro presidente pide perdón por sus errores del pasado, de los que culpa al «apetito de poder», y arremete contra la injerencia de Chávez\n",
      "\n",
      "\"Una segunda oleada de vandalismo y enfrentamientos sacude Budapest\" [score 7.10]\n",
      "\tCuatro policías se encuentran en estado grave, entre un total de 69 heridos Una de las teorías sobre el origen de la filtración apunta al propio Gyurcsány\n",
      "\n",
      "\"Italia vota con un resultado incierto y el riesgo de empate e ingobernabilidadAlgunas claves del voto\" [score 7.10]\n",
      "\tBerlusconi depende de los cuatro millones de electores que ha perdido y Prodi confía en superarle por la reunificación de la izquierda\n",
      "\n"
     ]
    }
   ],
   "source": [
    "for re in res:\n",
    "    r = re[\"_source\"]\n",
    "    \n",
    "    print('\"%s\" [score %0.2f]' % (r[\"titulo\"],re[\"_score\"]))\n",
    "    \n",
    "    if \"resumen\" in r:\n",
    "        print(\"\\t\"+r[\"resumen\"])\n",
    "    print(\"\")"
   ]
  },
  {
   "cell_type": "markdown",
   "metadata": {},
   "source": [
    "## Artículos publicados tal día como hoy en 2006 dentro de la sección Televisión"
   ]
  },
  {
   "cell_type": "markdown",
   "metadata": {},
   "source": [
    "En esta query se buscan los artículos que se hayan publicado en dd-MM-2006, siendo dd y MM el día y mes correspondiente al actual, y estén en la sección de Televisión. Para ello se obtiene el día y mes actual, y se realiza una búsqueda con dos condiciones, que el campo **seccion** sea Televisión, y que el campo **fecha** sea dd-MM-2006."
   ]
  },
  {
   "cell_type": "code",
   "execution_count": 75,
   "metadata": {},
   "outputs": [],
   "source": [
    "day = datetime.now().date().day\n",
    "month = datetime.now().date().month\n",
    "\n",
    "query = {\n",
    "    \"size\" : 10000,\n",
    "    \"query\" : {\n",
    "        \"bool\" : {\n",
    "            \"must\" : [\n",
    "                {\"match\" : { \"seccion\" : \"Televisión\" }},\n",
    "                {\"match\" : { \"fecha\" : str(day).zfill(2)+\"-\"+str(month).zfill(2)+\"-2006\" }}\n",
    "            ]\n",
    "        }\n",
    "    }\n",
    "}\n",
    "\n",
    "res = json.loads(requests.get(ELASTIC+\"/norte/_search\",json=query).text)[\"hits\"][\"hits\"]"
   ]
  },
  {
   "cell_type": "code",
   "execution_count": 76,
   "metadata": {},
   "outputs": [
    {
     "name": "stdout",
     "output_type": "stream",
     "text": [
      "\"«Aída es la mujer común de nuestra sociedad»\"\n",
      "\tLa cadena de Mediaset estrena esta noche una nueva temporada de la comedia, que vuelve con novedades\n",
      "\n",
      "\"Superhuman\"\n",
      "\n",
      "\"Finaliza el espacio 'Esta es mi tierra'\"\n",
      "\n",
      "\"Debuta en Cuatro la versión española de 'Matrimonio con hijos'\"\n",
      "\n",
      "\"'Actualidad en 2D' trata el islamismo\"\n",
      "\n"
     ]
    }
   ],
   "source": [
    "for re in res:\n",
    "    r = re[\"_source\"]\n",
    "    \n",
    "    print('\"%s\"' % (r[\"titulo\"]))\n",
    "    \n",
    "    if \"resumen\" in r:\n",
    "        print(\"\\t\"+r[\"resumen\"])\n",
    "    print(\"\")"
   ]
  },
  {
   "cell_type": "markdown",
   "metadata": {},
   "source": [
    "## Artículos publicados durante el mes de mayo que contengan la palabra \"Eurovisión\""
   ]
  },
  {
   "cell_type": "markdown",
   "metadata": {},
   "source": [
    "En esta query se buscan los artículos que contengan la palabra \"eurovisión\" entre los artículos publicados en Mayo. Para ello se realiza una búsqueda con dos condiciones, que el campo **cuerpo** contenga la palabra eurovisión y que la fecha sea mayor o igual que 05-2006, lo que se traduce a mayor o igual que el 1 de Mayo de 2006, y menor que 06-2006, es decir, el 1 de Junio de 2006."
   ]
  },
  {
   "cell_type": "code",
   "execution_count": 79,
   "metadata": {},
   "outputs": [],
   "source": [
    "query = {\n",
    "    \"size\" : 10000,\n",
    "    \"query\" : {\n",
    "        \"bool\" : {\n",
    "            \"must\" : [\n",
    "                {\"match\" : { \"cuerpo\" : \"eurovisión\" }},\n",
    "                {\"range\" : { \n",
    "                    \"fecha\" : {\n",
    "                        \"gte\" : \"05-2006\",\n",
    "                        \"lt\" : \"06-2006\",\n",
    "                        \"format\" : \"MM-yyyy\"\n",
    "                    }\n",
    "                }}\n",
    "            ]\n",
    "        }\n",
    "    }\n",
    "}\n",
    "\n",
    "res = json.loads(requests.get(ELASTIC+\"/norte/_search\",json=query).text)[\"hits\"][\"hits\"]"
   ]
  },
  {
   "cell_type": "code",
   "execution_count": 80,
   "metadata": {},
   "outputs": [
    {
     "name": "stdout",
     "output_type": "stream",
     "text": [
      "\"«Lo único que queremos es hacerlo muy bien»\"\n",
      "\tLas cuatro hermanas se muestran sorprendidas por el montaje del festival en la capital griega\n",
      "\n",
      "\"Todas la canciones de 'Eurovisión'\"\n",
      "\n",
      "\"Las Ketchup visitan a Buenafuente\"\n",
      "\n",
      "\"Bochorno\"\n",
      "\n",
      "\"Casi cinco millones de espectadores vieron Eurovisión\"\n",
      "\n",
      "\"Eurovisión\"\n",
      "\n",
      "\"Carlos Lozano presentará en TVE1 el día 20 la gala del festival de Eurovisión\"\n",
      "\tEl cuarteto cordobés Las Ketchup parte mañana hacia Atenas para defender 'Bloody Mary'\n",
      "\n",
      "\"«Intento disfrutar de cada momento, no miro más allá de mi sombra»\"\n",
      "\tLa cantante recibe esta noche en el Museo Patio Herreriano de Valladolid un homenaje de la Academia de los Grammy Latinos\n",
      "\n",
      "\"Azehos impulsa la gastronomía con el primer festival de la tapa\"\n",
      "\tUn total de 36 establecimientos se inscriben en el concurso para potenciar los productos de la tierra Con el aperitivo como excusa, la organización invita a zamoranos y visitantes a seguir la ruta gastronómica\n",
      "\n"
     ]
    }
   ],
   "source": [
    "for re in res:\n",
    "    r = re[\"_source\"]\n",
    "    \n",
    "    print('\"%s\"' % (r[\"titulo\"]))\n",
    "    if \"resumen\" in r:\n",
    "        print(\"\\t\"+r[\"resumen\"])\n",
    "    print(\"\")"
   ]
  }
 ],
 "metadata": {
  "kernelspec": {
   "display_name": "Python 3",
   "language": "python",
   "name": "python3"
  },
  "language_info": {
   "codemirror_mode": {
    "name": "ipython",
    "version": 3
   },
   "file_extension": ".py",
   "mimetype": "text/x-python",
   "name": "python",
   "nbconvert_exporter": "python",
   "pygments_lexer": "ipython3",
   "version": "3.6.8"
  }
 },
 "nbformat": 4,
 "nbformat_minor": 2
}
