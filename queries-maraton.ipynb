{
 "cells": [
  {
   "cell_type": "code",
   "execution_count": 309,
   "metadata": {
    "ExecuteTime": {
     "end_time": "2019-05-10T13:37:22.521248Z",
     "start_time": "2019-05-10T13:37:22.517186Z"
    }
   },
   "outputs": [],
   "source": [
    "import json\n",
    "import requests\n",
    "from datetime import datetime\n",
    "\n",
    "ELASTIC = \"http://localhost:9200\" #dirección en la que está funcionando elastic"
   ]
  },
  {
   "cell_type": "code",
   "execution_count": 239,
   "metadata": {
    "ExecuteTime": {
     "end_time": "2019-05-09T19:23:04.785651Z",
     "start_time": "2019-05-09T19:23:04.667434Z"
    }
   },
   "outputs": [
    {
     "name": "stdout",
     "output_type": "stream",
     "text": [
      "Grupo de edad 20-39: 272 corredores, tiempo medio 1:47:28, tiempo perdedor: 2:41:04, tiempo ganador: 1:09:47\n",
      "Grupo de edad 40-49: 139 corredores, tiempo medio 1:46:51, tiempo perdedor: 2:37:23, tiempo ganador: 1:18:36\n",
      "Grupo de edad 50-59: 38 corredores, tiempo medio 1:51:09, tiempo perdedor: 2:27:23, tiempo ganador: 1:26:51\n",
      "Grupo de edad 60-98: 7 corredores, tiempo medio 1:54:26, tiempo perdedor: 2:05:21, tiempo ganador: 1:37:56\n",
      "Grupo de edad 01-19: 5 corredores, tiempo medio 1:44:14, tiempo perdedor: 2:04:02, tiempo ganador: 1:21:24\n",
      "Grupo de edad 99-+: 2 corredores, tiempo medio 2:01:10, tiempo perdedor: 2:22:11, tiempo ganador: 1:40:09\n"
     ]
    }
   ],
   "source": [
    "\"\"\"\n",
    "    Media, mejor y peor tiempo por grupo de edad:\n",
    "\"\"\"\n",
    "\n",
    "query = {\n",
    "    \"size\" : 0,\n",
    "    \"aggs\" : {\n",
    "        \"tiempos_por_grupo\" : {\n",
    "            \"terms\" : {\n",
    "                \"field\" : \"Group.keyword\"\n",
    "            },\n",
    "            \"aggs\" : {\n",
    "                \"tiempos\" : {\n",
    "                    \"avg\" : {\n",
    "                        \"field\" : \"Time\"\n",
    "                    }\n",
    "                },\n",
    "                \"mejor-tiempo\" : {\n",
    "                    \"min\" : {\n",
    "                        \"field\" : \"Time\"\n",
    "                    }\n",
    "                },\n",
    "                \"peor-tiempo\" : {\n",
    "                    \"max\" : {\n",
    "                        \"field\" : \"Time\"\n",
    "                    }\n",
    "                }\n",
    "            }\n",
    "        }\n",
    "    }\n",
    "}\n",
    "\n",
    "res = json.loads(requests.get(ELASTIC+\"/maraton/_search\",json=query).text)[\"aggregations\"][\"tiempos_por_grupo\"][\"buckets\"]\n",
    "\n",
    "for r in res:\n",
    "    \n",
    "    print(\"Grupo de edad %s: %d corredores, tiempo medio %s, \\\n",
    "tiempo perdedor: %s, tiempo ganador: %s\" % (r[\"key\"], r[\"doc_count\"],\n",
    "                                                r[\"tiempos\"][\"value_as_string\"],\n",
    "                                                r[\"peor-tiempo\"][\"value_as_string\"],\n",
    "                                                r[\"mejor-tiempo\"][\"value_as_string\"]))"
   ]
  },
  {
   "cell_type": "code",
   "execution_count": 310,
   "metadata": {
    "ExecuteTime": {
     "end_time": "2019-05-10T13:37:27.352889Z",
     "start_time": "2019-05-10T13:37:27.333401Z"
    }
   },
   "outputs": [
    {
     "name": "stdout",
     "output_type": "stream",
     "text": [
      "RI: 190 corredores, mejor posición 3\n",
      "MA: 182 corredores, mejor posición 1\n",
      "CT: 32 corredores, mejor posición 20\n",
      "NH: 20 corredores, mejor posición 12\n",
      "FL: 9 corredores, mejor posición 17\n",
      "NC: 6 corredores, mejor posición 54\n",
      "MO: 5 corredores, mejor posición 7\n",
      "IN: 4 corredores, mejor posición 58\n",
      "NJ: 4 corredores, mejor posición 69\n",
      "PA: 4 corredores, mejor posición 100\n"
     ]
    }
   ],
   "source": [
    "\"\"\"\n",
    "    Mejor posición por cada Estado\n",
    "\"\"\"\n",
    "\n",
    "query = {\n",
    "    \"size\" : 0,\n",
    "    \"aggs\" : {\n",
    "        \"estados\" : {\n",
    "            \"terms\" : {\n",
    "                \"field\" : \"State.keyword\"\n",
    "            },\n",
    "            \"aggs\" : {\n",
    "                \"mejor\" : {\n",
    "                    \"min\" : {\n",
    "                        \"field\" : \"Place\"\n",
    "                    }\n",
    "                },\n",
    "            }\n",
    "        }\n",
    "    }\n",
    "}\n",
    "\n",
    "res = json.loads(requests.get(ELASTIC+\"/maraton/_search\",json=query).text)[\"aggregations\"][\"estados\"][\"buckets\"]\n",
    "\n",
    "for r in res:\n",
    "    print(\"%s: %d corredores, mejor posición %d\" % (r[\"key\"], r[\"doc_count\"], r[\"mejor\"][\"value\"]))"
   ]
  },
  {
   "cell_type": "code",
   "execution_count": 330,
   "metadata": {
    "ExecuteTime": {
     "end_time": "2019-05-10T13:48:19.671834Z",
     "start_time": "2019-05-10T13:48:19.579238Z"
    },
    "scrolled": true
   },
   "outputs": [
    {
     "name": "stdout",
     "output_type": "stream",
     "text": [
      "CRUZ TAILOR, Pace: 0:6:00, Puesto en su grupo(40-49) 1\n",
      "BRENTON FAGO, Pace: 0:6:03, Puesto en su grupo(40-49) 2\n",
      "CHARLES FARLESS, Pace: 0:6:03, Puesto en su grupo(40-49) 3\n",
      "WILBER VANORDER, Pace: 0:6:04, Puesto en su grupo(40-49) 4\n",
      "KENDRICK HOLZ, Pace: 0:6:13, Puesto en su grupo(01-19) 1\n",
      "JAMA PEAD, Pace: 0:6:16, Puesto en su grupo(20-39) 1\n",
      "ROMEO UNVARSKY, Pace: 0:6:18, Puesto en su grupo(40-49) 5\n",
      "ALEXIS HABERMANN, Pace: 0:6:38, Puesto en su grupo(50-59) 1\n",
      "MAGGIE NASR, Pace: 0:6:39, Puesto en su grupo(20-39) 2\n",
      "FRANCIS LAMSON, Pace: 0:6:42, Puesto en su grupo(50-59) 2\n",
      "HEATH KIRVIN, Pace: 0:7:02, Puesto en su grupo(50-59) 3\n",
      "NEDRA NASSIMI, Pace: 0:7:03, Puesto en su grupo(20-39) 3\n",
      "FLORIDA AYTES, Pace: 0:7:03, Puesto en su grupo(40-49) 1\n",
      "LETTIE MCKAGUE, Pace: 0:7:05, Puesto en su grupo(20-39) 4\n",
      "MAIRA ROUTHIER, Pace: 0:7:11, Puesto en su grupo(20-39) 5\n",
      "GIOVANNI FYLES, Pace: 0:7:17, Puesto en su grupo(50-59) 4\n",
      "STEPHANI FERTITTA, Pace: 0:7:18, Puesto en su grupo(40-49) 2\n",
      "WESLEY BECKWORTH, Pace: 0:7:19, Puesto en su grupo(50-59) 5\n",
      "CEDRIC FROILAND, Pace: 0:7:29, Puesto en su grupo(60-98) 1\n",
      "JOSUE WOODAL, Pace: 0:7:39, Puesto en su grupo(99-+) 1\n",
      "REUBEN JOHNSON, Pace: 0:7:51, Puesto en su grupo(01-19) 2\n",
      "MIGUELINA BOWLAND, Pace: 0:7:56, Puesto en su grupo(40-49) 3\n",
      "DANELLE TROIA, Pace: 0:8:00, Puesto en su grupo(40-49) 4\n",
      "STANFORD RIVERIA, Pace: 0:8:00, Puesto en su grupo(01-19) 3\n",
      "ANTONY CRAGIN, Pace: 0:8:00, Puesto en su grupo(60-98) 2\n"
     ]
    }
   ],
   "source": [
    "\"\"\"\n",
    "    Corredores con Pace entre 6 y 8 minutos que hayan quedado por encima del puesto 5 en su grupo\n",
    "\"\"\"\n",
    "\n",
    "query = {\n",
    "    \"size\": 1000,\n",
    "    \"query\" : {\n",
    "        \"bool\" : {\n",
    "            \"must\" : [{\n",
    "                \"range\" : { \n",
    "                    \"Pace\" : {\n",
    "                        \"gte\" : \"0:6:00\",\n",
    "                        \"lte\" : \"0:8:00\"\n",
    "                    }\n",
    "                }},\n",
    "                {\"range\" : {\n",
    "                    \"GroupPlace\" : {\n",
    "                        \"lte\" : 5\n",
    "                    }\n",
    "                }\n",
    "            }]\n",
    "        }\n",
    "    }\n",
    "}\n",
    "\n",
    "\n",
    "res = json.loads(requests.get(ELASTIC+\"/maraton/_search\",json=query).text)[\"hits\"][\"hits\"]\n",
    "\n",
    "for re in res:\n",
    "    r = re[\"_source\"]\n",
    "    print(\"%s, Pace: %s, Puesto en su grupo(%s) %d\" % (r[\"FirstName\"]+\" \"+r[\"LasName\"], r[\"Pace\"], r[\"Group\"], r[\"GroupPlace\"]))"
   ]
  },
  {
   "cell_type": "code",
   "execution_count": 332,
   "metadata": {
    "ExecuteTime": {
     "end_time": "2019-05-10T13:51:31.683400Z",
     "start_time": "2019-05-10T13:51:31.668373Z"
    }
   },
   "outputs": [
    {
     "name": "stdout",
     "output_type": "stream",
     "text": [
      "ANDRE PELLAM, puesto 1, BIB: 340\n",
      "HORACE KARPOWICZ, puesto 2, BIB: 34\n",
      "MILES ROSELLA, puesto 3, BIB: 399\n",
      "FRANKLYN GIRARDIN, puesto 4, BIB: 18\n",
      "AL LEMASTER, puesto 5, BIB: 262\n",
      "CRUZ TAILOR, puesto 6, BIB: 308\n",
      "DEWEY HEAIVILIN, puesto 7, BIB: 45\n",
      "HYMAN CURIE, puesto 8, BIB: 16\n",
      "BRENTON FAGO, puesto 9, BIB: 42\n",
      "CHARLES FARLESS, puesto 10, BIB: 420\n"
     ]
    }
   ],
   "source": [
    "\"\"\"\n",
    "    Número de BIB de los diez mejores corredores\n",
    "\"\"\"\n",
    "\n",
    "query = {\n",
    "    \"size\": 10,\n",
    "    \"query\" : {\n",
    "        \"range\" : {\n",
    "            \"Place\" : {\n",
    "                \"lte\" : \"10\"\n",
    "            }\n",
    "        }\n",
    "    }\n",
    "}\n",
    "\n",
    "res = json.loads(requests.get(ELASTIC+\"/maraton/_search\",json=query).text)[\"hits\"][\"hits\"]\n",
    "\n",
    "for re in res:\n",
    "    r = re[\"_source\"]\n",
    "    print(\"%s, puesto %s, BIB: %s\" % (r[\"FirstName\"]+\" \"+r[\"LasName\"], r[\"Place\"], r[\"BIBNumber\"]))"
   ]
  }
 ],
 "metadata": {
  "kernelspec": {
   "display_name": "Python 3",
   "language": "python",
   "name": "python3"
  },
  "language_info": {
   "codemirror_mode": {
    "name": "ipython",
    "version": 3
   },
   "file_extension": ".py",
   "mimetype": "text/x-python",
   "name": "python",
   "nbconvert_exporter": "python",
   "pygments_lexer": "ipython3",
   "version": "3.6.5"
  }
 },
 "nbformat": 4,
 "nbformat_minor": 2
}
