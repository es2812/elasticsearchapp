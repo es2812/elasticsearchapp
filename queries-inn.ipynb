{
 "cells": [
  {
   "cell_type": "code",
   "execution_count": 4,
   "metadata": {
    "ExecuteTime": {
     "end_time": "2019-05-09T08:04:04.556253Z",
     "start_time": "2019-05-09T08:04:04.553206Z"
    }
   },
   "outputs": [],
   "source": [
    "import json\n",
    "import requests\n",
    "from datetime import datetime\n",
    "\n",
    "ELASTIC = \"http://localhost:9200\" #dirección en la que está funcionando elastic"
   ]
  },
  {
   "cell_type": "code",
   "execution_count": 312,
   "metadata": {
    "ExecuteTime": {
     "end_time": "2019-05-09T09:53:59.207326Z",
     "start_time": "2019-05-09T09:53:59.187601Z"
    }
   },
   "outputs": [
    {
     "name": "stdout",
     "output_type": "stream",
     "text": [
      "Reservas de duración igual o superior a una semana:\n",
      "\n",
      "JESSICA SULOUFF: Entró 26-Feb-10, Salió 07-Mar-10, duración = 9 días\n",
      "EDWARDO CHINAULT: Entró 21-Mar-10, Salió 28-Mar-10, duración = 7 días\n",
      "STANFORD WAEGNER: Entró 21-Apr-10, Salió 30-Apr-10, duración = 9 días\n",
      "JONATHON BURCHAM: Entró 06-May-10, Salió 13-May-10, duración = 7 días\n",
      "HONEY FOCKE: Entró 30-May-10, Salió 06-Jun-10, duración = 7 días\n",
      "LEWIS TRUDEN: Entró 21-Jun-10, Salió 02-Jul-10, duración = 11 días\n",
      "NATHANAEL HARTFORD: Entró 03-Sep-10, Salió 10-Sep-10, duración = 7 días\n",
      "GUS DERKAS: Entró 01-Oct-10, Salió 13-Oct-10, duración = 12 días\n",
      "OLYMPIA ALBROUGH: Entró 14-Oct-10, Salió 25-Oct-10, duración = 11 días\n",
      "HERMAN KUTA: Entró 25-Oct-10, Salió 01-Nov-10, duración = 7 días\n",
      "\n"
     ]
    }
   ],
   "source": [
    "\"\"\"\n",
    "    Reservas de duración mayor o igual a 7 días\n",
    "\"\"\"\n",
    "\n",
    "print(\"Reservas de duración igual o superior a una semana:\")\n",
    "print(\"\")\n",
    "\n",
    "query = {\n",
    "    \"query\":\n",
    "    {\n",
    "        \"script\" : {\n",
    "            \"script\" : {\n",
    "                \"source\": \"return (doc['CheckOut'].value.getMillis() - doc['CheckIn'].value.getMillis())/(1000*60*60*24) >= 7\"\n",
    "            }\n",
    "        }\n",
    "    }\n",
    "}\n",
    "\n",
    "res = json.loads(requests.get(ELASTIC+\"/inn/_search\",json=query).text)[\"hits\"][\"hits\"]\n",
    "\n",
    "for r in res:\n",
    "    reservation = r[\"_source\"]\n",
    "    ckin = datetime.strptime(reservation[\"CheckIn\"], \"%d-%b-%y\")\n",
    "    ckout = datetime.strptime(reservation[\"CheckOut\"], \"%d-%b-%y\")\n",
    "\n",
    "    print(\"%s %s: Entró %s, Salió %s, duración = %d días\" % (reservation[\"FirstName\"], reservation[\"LastName\"],reservation[\"CheckIn\"],reservation[\"CheckOut\"],(ckout-ckin).days))\n",
    "\n",
    "print(\"\")\n"
   ]
  },
  {
   "cell_type": "code",
   "execution_count": 311,
   "metadata": {
    "ExecuteTime": {
     "end_time": "2019-05-09T09:53:50.980432Z",
     "start_time": "2019-05-09T09:53:50.956840Z"
    },
    "scrolled": true
   },
   "outputs": [
    {
     "name": "stdout",
     "output_type": "stream",
     "text": [
      "Personas que se han alojado más de una vez:\n",
      "\n",
      "EMERY VOLANTE se ha alojado 3 veces\n",
      "GLEN DONIGAN se ha alojado 3 veces\n",
      "GRANT KNERIEN se ha alojado 3 veces\n",
      "ALEXIS FINEFROCK se ha alojado 2 veces\n",
      "AMIEE PENEZ se ha alojado 2 veces\n",
      "ARON KEBEDE se ha alojado 2 veces\n",
      "AUGUST MAEWEATHER se ha alojado 2 veces\n",
      "BENTON AKHTAR se ha alojado 2 veces\n",
      "BO DURAN se ha alojado 2 veces\n",
      "CATHERIN KUDRON se ha alojado 2 veces\n"
     ]
    }
   ],
   "source": [
    "\"\"\"\n",
    "    Personas que se han alojado más de una vez\n",
    "\"\"\"\n",
    "\n",
    "print(\"Personas que se han alojado más de una vez:\")\n",
    "print(\"\")\n",
    "\n",
    "query = {\n",
    "    \"size\":0,\n",
    "    \"aggs\": {\n",
    "        \"persona\":{\n",
    "            \"terms\" : {\n",
    "                \"script\": \"params['_source'].FirstName+' '+params['_source'].LastName\"\n",
    "            },\n",
    "            \"aggs\":{\n",
    "                \"reservas\":{\n",
    "                    \"bucket_selector\": {\n",
    "                        \"buckets_path\": {\n",
    "                            \"cuenta\" : \"_count\"\n",
    "                        },\n",
    "                        \"script\": {\n",
    "                            \"source\" : \"params.cuenta > 1\"\n",
    "                        }\n",
    "                    }\n",
    "                }\n",
    "            }\n",
    "        }\n",
    "    }\n",
    "}\n",
    "\n",
    "res = json.loads(requests.get(ELASTIC+\"/inn/_search\",json=query).text)[\"aggregations\"][\"persona\"][\"buckets\"]\n",
    "\n",
    "for r in res:\n",
    "    print(\"%s se ha alojado %d veces\" % (r[\"key\"], r[\"doc_count\"]))"
   ]
  },
  {
   "cell_type": "code",
   "execution_count": 307,
   "metadata": {
    "ExecuteTime": {
     "end_time": "2019-05-09T09:47:47.604339Z",
     "start_time": "2019-05-09T09:47:47.584887Z"
    }
   },
   "outputs": [
    {
     "name": "stdout",
     "output_type": "stream",
     "text": [
      "Número de reservas al mes para camas de tipo Queen:\n",
      "\n",
      "En el mes AUGUST: 25 reservas de camas de tipo Queen\n",
      "En el mes DECEMBER: 24 reservas de camas de tipo Queen\n",
      "En el mes APRIL: 21 reservas de camas de tipo Queen\n",
      "En el mes JULY: 21 reservas de camas de tipo Queen\n",
      "En el mes OCTOBER: 21 reservas de camas de tipo Queen\n",
      "En el mes NOVEMBER: 19 reservas de camas de tipo Queen\n",
      "En el mes SEPTEMBER: 19 reservas de camas de tipo Queen\n",
      "En el mes JUNE: 18 reservas de camas de tipo Queen\n",
      "En el mes MAY: 18 reservas de camas de tipo Queen\n",
      "En el mes JANUARY: 16 reservas de camas de tipo Queen\n"
     ]
    }
   ],
   "source": [
    "\"\"\"\n",
    "    Número de reservas al mes para camas de tipo Queen\n",
    "\"\"\"\n",
    "\n",
    "print(\"Número de reservas al mes para camas de tipo Queen:\")\n",
    "print(\"\")\n",
    "\n",
    "query = {\n",
    "    \"size\" : 0,\n",
    "    \"query\" : {\n",
    "        \"match\" : { \"Room.bedType\" : \"Queen\" }\n",
    "    },\n",
    "    \"aggs\" : {\n",
    "        \"reservas-al-mes\" : {\n",
    "            \"terms\" : { \n",
    "                \"script\" : \"doc['CheckIn'].value.getMonth()\"\n",
    "            }\n",
    "        }\n",
    "    }\n",
    "}\n",
    "\n",
    "res = json.loads(requests.get(ELASTIC+\"/inn/_search\",json=query).text)[\"aggregations\"][\"reservas-al-mes\"][\"buckets\"]\n",
    "\n",
    "for r in res:\n",
    "    print(\"En el mes %s: %d reservas de camas de tipo Queen\" % (r[\"key\"],r[\"doc_count\"]))\n"
   ]
  },
  {
   "cell_type": "code",
   "execution_count": 338,
   "metadata": {
    "ExecuteTime": {
     "end_time": "2019-05-09T10:04:49.708440Z",
     "start_time": "2019-05-09T10:04:49.693969Z"
    }
   },
   "outputs": [
    {
     "name": "stdout",
     "output_type": "stream",
     "text": [
      "Precio total de todas las reservas realizadas por EMERY VOLANTE: $843.75\n",
      "\n"
     ]
    }
   ],
   "source": [
    "\"\"\"\n",
    "    Precio total de las reservas realizadas por EMERY VOLANTE\n",
    "\"\"\"\n",
    "\n",
    "query = {\n",
    "    \"query\" : {\n",
    "        \"bool\" : {\n",
    "            \"must\" : [{\"match\" : { \"FirstName\" : \"EMERY\"}}, {\"match\" : { \"LastName\" : \"VOLANTE\"}}]\n",
    "        }\n",
    "    },\n",
    "    \"aggs\" : {\n",
    "       \"precio-total\" : {\n",
    "           \"sum\" : {\n",
    "               \"script\" : {\n",
    "                   \"source\" : \"(doc.CheckOut.value.getMillis() - doc.CheckIn.value.getMillis())/(1000*60*60*24) * doc.Rate.value\" \n",
    "               }\n",
    "           }\n",
    "       } \n",
    "    }\n",
    "}\n",
    "\n",
    "res = json.loads(requests.get(ELASTIC+\"/inn/_search\",json=query).text)[\"aggregations\"]\n",
    "\n",
    "print(\"Precio total de todas las reservas realizadas por EMERY VOLANTE: $%0.2f\" % res[\"precio-total\"][\"value\"])\n",
    "print(\"\")"
   ]
  },
  {
   "cell_type": "code",
   "execution_count": null,
   "metadata": {},
   "outputs": [],
   "source": []
  }
 ],
 "metadata": {
  "kernelspec": {
   "display_name": "Python 3",
   "language": "python",
   "name": "python3"
  },
  "language_info": {
   "codemirror_mode": {
    "name": "ipython",
    "version": 3
   },
   "file_extension": ".py",
   "mimetype": "text/x-python",
   "name": "python",
   "nbconvert_exporter": "python",
   "pygments_lexer": "ipython3",
   "version": "3.6.8"
  }
 },
 "nbformat": 4,
 "nbformat_minor": 2
}
