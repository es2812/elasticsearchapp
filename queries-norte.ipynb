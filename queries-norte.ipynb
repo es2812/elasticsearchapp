{
 "cells": [
  {
   "cell_type": "code",
   "execution_count": 3,
   "metadata": {
    "ExecuteTime": {
     "end_time": "2019-05-10T13:37:22.521248Z",
     "start_time": "2019-05-10T13:37:22.517186Z"
    }
   },
   "outputs": [],
   "source": [
    "import json\n",
    "import requests\n",
    "from datetime import datetime\n",
    "\n",
    "ELASTIC = \"http://localhost:9200\" #dirección en la que está funcionando elastic"
   ]
  },
  {
   "cell_type": "code",
   "execution_count": 144,
   "metadata": {
    "ExecuteTime": {
     "end_time": "2019-05-09T19:23:04.785651Z",
     "start_time": "2019-05-09T19:23:04.667434Z"
    }
   },
   "outputs": [
    {
     "name": "stdout",
     "output_type": "stream",
     "text": [
      "\"Los argentinos reciben con indiferencia la orden por la que los bancos devolverán en pesos los ahorros retenidos\" [score 10.76]\n",
      "\tLos afectados, insatisfechos con la solución, insistirán en sus demandas\n",
      "\n",
      "\"Las empresas españolas en América Latina temen nuevos cambios legales\" [score 9.60]\n",
      "\tLa inseguridad jurídica es la principal razón que alegan las compañías para paralizar o reconsiderar sus inversiones en estos países\n",
      "\n",
      "\"Berlusconi acusa a los empresarios de aliarse con la oposición\" [score 9.14]\n",
      "\tLa patronal italiana califica las palabras del primer ministro de «antidemocráticas»\n",
      "\n",
      "\"Ferviente nacionalista crítico con WashingtonEl peor dirigente de la historia del país\" [score 8.15]\n",
      "\n",
      "\"Perú da otra oportunidad a Alan García, que dejó el país en bancarrota en 1990\" [score 8.15]\n",
      "\tEl futuro presidente pide perdón por sus errores del pasado, de los que culpa al «apetito de poder», y arremete contra la injerencia de Chávez\n",
      "\n",
      "\"Una segunda oleada de vandalismo y enfrentamientos sacude Budapest\" [score 7.10]\n",
      "\tCuatro policías se encuentran en estado grave, entre un total de 69 heridos Una de las teorías sobre el origen de la filtración apunta al propio Gyurcsány\n",
      "\n",
      "\"Italia vota con un resultado incierto y el riesgo de empate e ingobernabilidadAlgunas claves del voto\" [score 7.10]\n",
      "\tBerlusconi depende de los cuatro millones de electores que ha perdido y Prodi confía en superarle por la reunificación de la izquierda\n",
      "\n"
     ]
    }
   ],
   "source": [
    "\"\"\"\n",
    "    Artículos de la sección \"Internacional\" que contengan la frase \"crisis económica\"\n",
    "\"\"\"\n",
    "\n",
    "query = {\n",
    "    \"size\" : 10000,\n",
    "    \"query\" : {\n",
    "        \"bool\" : {\n",
    "            \"must\" : [\n",
    "                {\"match\" : {\"seccion\" : \"Internacional\"}},\n",
    "                {\"match_phrase\" : {\"cuerpo\" : \"crisis económica\"}}\n",
    "            ]\n",
    "        }\n",
    "    }\n",
    "}\n",
    "\n",
    "res = json.loads(requests.get(ELASTIC+\"/norte/_search\",json=query).text)[\"hits\"][\"hits\"]\n",
    "\n",
    "for re in res:\n",
    "    r = re[\"_source\"]\n",
    "    \n",
    "    print('\"%s\" [score %0.2f]' % (r[\"titulo\"],re[\"_score\"]))\n",
    "    \n",
    "    if \"resumen\" in r:\n",
    "        print(\"\\t\"+r[\"resumen\"])\n",
    "    print(\"\")"
   ]
  },
  {
   "cell_type": "code",
   "execution_count": 145,
   "metadata": {},
   "outputs": [
    {
     "name": "stdout",
     "output_type": "stream",
     "text": [
      "\"«Antena 3 es el mejor padre para mi nueva criatura»\"\n",
      "\tEstrenará en septiembre la serie 'Ellas y el sexo débil', que prepara desde hace un año\n",
      "\n",
      "\"Sufridor\"\n",
      "\n",
      "\"El día 22 arranca el rodaje de 'Betty '\"\n",
      "\n",
      "\"La feria taurina de San Pedro, en Punto Radio y Canal 29\"\n",
      "\n",
      "\"La final de la UEFA, lo más visto\"\n",
      "\n"
     ]
    }
   ],
   "source": [
    "\"\"\"\n",
    "    Artículos publicados tal día como hoy en 2006 dentro de la sección Televisión\n",
    "\"\"\"\n",
    "\n",
    "day = datetime.now().date().day\n",
    "month = datetime.now().date().month\n",
    "\n",
    "query = {\n",
    "    \"size\" : 10000,\n",
    "    \"query\" : {\n",
    "        \"bool\" : {\n",
    "            \"must\" : [\n",
    "                {\"match\" : { \"seccion\" : \"Televisión\" }},\n",
    "                {\"match\" : { \"fecha\" : str(day).zfill(2)+\"-\"+str(month).zfill(2)+\"-2006\" }}\n",
    "            ]\n",
    "        }\n",
    "    }\n",
    "}\n",
    "\n",
    "res = json.loads(requests.get(ELASTIC+\"/norte/_search\",json=query).text)[\"hits\"][\"hits\"]\n",
    "\n",
    "for re in res:\n",
    "    r = re[\"_source\"]\n",
    "    \n",
    "    print('\"%s\"' % (r[\"titulo\"]))\n",
    "    \n",
    "    if \"resumen\" in r:\n",
    "        print(\"\\t\"+r[\"resumen\"])\n",
    "    print(\"\")"
   ]
  },
  {
   "cell_type": "code",
   "execution_count": 143,
   "metadata": {},
   "outputs": [
    {
     "name": "stdout",
     "output_type": "stream",
     "text": [
      "\"«Lo único que queremos es hacerlo muy bien»\"\n",
      "\tLas cuatro hermanas se muestran sorprendidas por el montaje del festival en la capital griega\n",
      "\n",
      "\"Todas la canciones de 'Eurovisión'\"\n",
      "\n",
      "\"Las Ketchup visitan a Buenafuente\"\n",
      "\n",
      "\"Bochorno\"\n",
      "\n",
      "\"Casi cinco millones de espectadores vieron Eurovisión\"\n",
      "\n",
      "\"Eurovisión\"\n",
      "\n",
      "\"Carlos Lozano presentará en TVE1 el día 20 la gala del festival de Eurovisión\"\n",
      "\tEl cuarteto cordobés Las Ketchup parte mañana hacia Atenas para defender 'Bloody Mary'\n",
      "\n",
      "\"«Intento disfrutar de cada momento, no miro más allá de mi sombra»\"\n",
      "\tLa cantante recibe esta noche en el Museo Patio Herreriano de Valladolid un homenaje de la Academia de los Grammy Latinos\n",
      "\n",
      "\"Azehos impulsa la gastronomía con el primer festival de la tapa\"\n",
      "\tUn total de 36 establecimientos se inscriben en el concurso para potenciar los productos de la tierra Con el aperitivo como excusa, la organización invita a zamoranos y visitantes a seguir la ruta gastronómica\n",
      "\n"
     ]
    }
   ],
   "source": [
    "\"\"\"\n",
    "    Artículos publicados durante el mes de mayo que contengan la palabra \"Eurovisión\"\n",
    "\"\"\"\n",
    "\n",
    "query = {\n",
    "    \"size\" : 10000,\n",
    "    \"query\" : {\n",
    "        \"bool\" : {\n",
    "            \"must\" : [\n",
    "                {\"match\" : { \"cuerpo\" : \"eurovisión\" }},\n",
    "                {\"range\" : { \n",
    "                    \"fecha\" : {\n",
    "                        \"gte\" : \"05-2006\",\n",
    "                        \"lte\" : \"06-2006\",\n",
    "                        \"format\" : \"MM-yyyy\"\n",
    "                    }\n",
    "                }}\n",
    "            ]\n",
    "        }\n",
    "    }\n",
    "}\n",
    "\n",
    "res = json.loads(requests.get(ELASTIC+\"/norte/_search\",json=query).text)[\"hits\"][\"hits\"]\n",
    "\n",
    "for re in res:\n",
    "    r = re[\"_source\"]\n",
    "    \n",
    "    print('\"%s\"' % (r[\"titulo\"]))\n",
    "    if \"resumen\" in r:\n",
    "        print(\"\\t\"+r[\"resumen\"])\n",
    "    print(\"\")"
   ]
  }
 ],
 "metadata": {
  "kernelspec": {
   "display_name": "Python 3",
   "language": "python",
   "name": "python3"
  },
  "language_info": {
   "codemirror_mode": {
    "name": "ipython",
    "version": 3
   },
   "file_extension": ".py",
   "mimetype": "text/x-python",
   "name": "python",
   "nbconvert_exporter": "python",
   "pygments_lexer": "ipython3",
   "version": "3.6.5"
  }
 },
 "nbformat": 4,
 "nbformat_minor": 2
}
